{
 "cells": [
  {
   "cell_type": "markdown",
   "metadata": {
    "slideshow": {
     "slide_type": "slide"
    }
   },
   "source": [
    "# Part 1\n",
    "## Jupyter and SWAN"
   ]
  },
  {
   "cell_type": "markdown",
   "metadata": {
    "slideshow": {
     "slide_type": "slide"
    }
   },
   "source": [
    "## How to install Jupyter notebook\n",
    "\n",
    "* If you use conda, you can install it with:\n",
    "\n",
    "`conda install -c conda-forge jupyterlab`\n",
    "\n",
    "* If you use pip, you can install it with:\n",
    "\n",
    "`pip install jupyterlab`\n"
   ]
  },
  {
   "cell_type": "markdown",
   "metadata": {
    "slideshow": {
     "slide_type": "slide"
    }
   },
   "source": [
    "## Prerequisite: Python\n",
    "\n",
    "While Jupyter runs code in many programming languages, Python is a requirement (Python 3.3 or greater, or Python 2.7) for installing the JupyterLab or the classic Jupyter Notebook.\n",
    "\n",
    "I hope, at this moment, you already have installed your Jupyter Notebook, so let's start!\n",
    "\n",
    "*Other information how to install Jupyter notebook for advanced users are here:*\n",
    "https://jupyter.org/install"
   ]
  },
  {
   "cell_type": "markdown",
   "metadata": {
    "slideshow": {
     "slide_type": "slide"
    }
   },
   "source": [
    "## How to start\n",
    "\n",
    "Run in you command line:\n",
    "\n",
    "`jupyter notebook`\n",
    "\n",
    "or\n",
    "\n",
    "`jupyter-notebook`\n",
    "\n",
    "and you will be able to see something like this:\n",
    "\n",
    "`[I 09:00:31.499 NotebookApp] JupyterLab extension loaded from /usr/lib/python3.7/site-packages/jupyterlab\n",
    "[I 09:00:31.499 NotebookApp] JupyterLab application directory is /usr/share/jupyter/lab\n",
    "[I 09:00:31.657 NotebookApp] Serving notebooks from local directory: /home/oksana/CERN_sources/carpentries-root-training\n",
    "[I 09:00:31.657 NotebookApp] The Jupyter Notebook is running at:\n",
    "[I 09:00:31.657 NotebookApp] http://localhost:8888/?token=a37410108bcdb101286b232f05f45d2a2c99dc894a8ea6f6\n",
    "[I 09:00:31.657 NotebookApp]  or http://127.0.0.1:8888/?token=a37410108bcdb101286b232f05f45d2a2c99dc894a8ea6f6\n",
    "[I 09:00:31.657 NotebookApp] Use Control-C to stop this server and shut down all kernels (twice to skip confirmation).`\n"
   ]
  },
  {
   "cell_type": "markdown",
   "metadata": {
    "slideshow": {
     "slide_type": "slide"
    }
   },
   "source": [
    "When you first start the notebook server, your browser will open to the notebook dashboard. \n",
    "* The dashboard serves as a home page for the notebook. \n",
    "* Its main purpose is to display the notebooks and files in the current directory.\n",
    "\n",
    "For example, here is a screenshot of the dashboard page of our training directory:"
   ]
  },
  {
   "cell_type": "markdown",
   "metadata": {
    "slideshow": {
     "slide_type": "slide"
    }
   },
   "source": [
    "<img src=\"images/jup.png\">"
   ]
  },
  {
   "cell_type": "markdown",
   "metadata": {
    "slideshow": {
     "slide_type": "slide"
    }
   },
   "source": [
    "The top of the notebook list displays clickable breadcrumbs of the current directory. By clicking on these breadcrumbs or on sub-directories in the notebook list, you can navigate your file system.\n",
    "\n",
    "* To create a new notebook, click on the “New” button at the top of the list and select a kernel from the dropdown (as seen below). \n",
    "* Which kernels are listed depend on what’s installed on the server.\n",
    "* Some of the kernels in the screenshot below may not exist as an option to you."
   ]
  },
  {
   "cell_type": "markdown",
   "metadata": {
    "slideshow": {
     "slide_type": "slide"
    }
   },
   "source": [
    "<img src=\"images/jup.png\">"
   ]
  },
  {
   "cell_type": "markdown",
   "metadata": {
    "slideshow": {
     "slide_type": "slide"
    }
   },
   "source": [
    "* Notebooks and files can be uploaded to the current directory by dragging a notebook file onto the notebook list or by the “click here” text above the list.\n",
    "\n",
    "* The notebook list shows green “Running” text and a green notebook icon next to running notebooks (as seen below).\n",
    "\n",
    "* **Notebooks remain running until you explicitly shut them down; closing the notebook’s page is not sufficient.**\n"
   ]
  },
  {
   "cell_type": "markdown",
   "metadata": {
    "slideshow": {
     "slide_type": "slide"
    }
   },
   "source": [
    "<img src=\"images/jup2.png\">"
   ]
  },
  {
   "cell_type": "markdown",
   "metadata": {
    "slideshow": {
     "slide_type": "slide"
    }
   },
   "source": [
    "To shutdown, delete, duplicate, or rename a notebook check the checkbox next to it and an array of controls will appear at the top of the notebook list (as seen below). You can also use the same operations on directories and files when applicable.\n",
    "<img src=\"images/jup3.png\">"
   ]
  },
  {
   "cell_type": "markdown",
   "metadata": {
    "slideshow": {
     "slide_type": "slide"
    }
   },
   "source": [
    "To see all of your running notebooks along with their directories, click on the “Running” tab:\n",
    "<img src=\"images/jup4.png\">"
   ]
  },
  {
   "cell_type": "markdown",
   "metadata": {
    "slideshow": {
     "slide_type": "slide"
    }
   },
   "source": [
    "A lot of materials were taken from: https://jupyter-notebook.readthedocs.io/en/stable/"
   ]
  },
  {
   "cell_type": "markdown",
   "metadata": {
    "slideshow": {
     "slide_type": "slide"
    }
   },
   "source": [
    "## Use cases of Jupyter notebooks"
   ]
  },
  {
   "cell_type": "markdown",
   "metadata": {
    "slideshow": {
     "slide_type": "slide"
    }
   },
   "source": [
    "* Programming and Computer Science\n",
    "* Statistics, Machine Learning and Data Science\n",
    "* Mathematics, Physics, Chemistry, Biology\n",
    "* Earth Science and Geo-Spatial data\n",
    "* Linguistics and Text Mining\n",
    "* Signal Processing\n",
    "* Engineering Education\n",
    "* and even accessing and programing a IBM quantum computer via notebooks\n",
    "\n",
    "Check nice examples:\n",
    "https://github.com/jupyter/jupyter/wiki/A-gallery-of-interesting-Jupyter-Notebooks"
   ]
  },
  {
   "cell_type": "markdown",
   "metadata": {
    "slideshow": {
     "slide_type": "slide"
    }
   },
   "source": [
    "## SWAN (Service for Web based ANalysis)\n",
    "https://swan.cern.ch"
   ]
  },
  {
   "cell_type": "markdown",
   "metadata": {
    "slideshow": {
     "slide_type": "slide"
    }
   },
   "source": [
    "### What is a SWAN?\n",
    "\n",
    "**SWAN (Service for Web-based ANalysis)** is a CERN service that allows users to perform interactive data analysis in the cloud, following a \"software as a service\" model. It is built upon the widely-used Jupyter notebooks, which allows users to write - and run - their data analyses using only a web browser. Moreover, by connecting to SWAN, users have immediate access to the CERN storage, software and computing resources they need to do their analyses."
   ]
  },
  {
   "cell_type": "markdown",
   "metadata": {
    "slideshow": {
     "slide_type": "slide"
    }
   },
   "source": [
    "What you can do with SWAN:\n",
    "* Analyse data without the need to install any software\n",
    "* Jupyter notebook interface as well as shell access from the browser\n",
    "* Use CERNBox as your home directory and synchronise your local user storage with the cloud\n",
    "* Access experiments and user data in the **CERN cloud (EOS)**\n",
    "* Share your work with your colleagues thanks to **CERNBox support**\n",
    "* Document and preserve science - create catalogues of analyses: encourage **reproducible studies** and learning by example\n",
    "* Submit your jobs to **CERN Spark Clusters**\n"
   ]
  },
  {
   "cell_type": "markdown",
   "metadata": {
    "slideshow": {
     "slide_type": "slide"
    }
   },
   "source": [
    "More interesting features:\n",
    "\n",
    "* Support of LCG dev software stacks (multiple useful packages used by LHC experiments, such as ROOT, Geant4 and etc.)\n"
   ]
  },
  {
   "cell_type": "markdown",
   "metadata": {
    "slideshow": {
     "slide_type": "slide"
    }
   },
   "source": [
    "### A lot of SWAN interesting examples: just click and run!\n",
    "\n",
    "https://swan.web.cern.ch/content/basic-examples\n"
   ]
  },
  {
   "cell_type": "markdown",
   "metadata": {
    "slideshow": {
     "slide_type": "slide"
    }
   },
   "source": [
    "<img src=\"images/jup15.png\">"
   ]
  },
  {
   "cell_type": "markdown",
   "metadata": {
    "slideshow": {
     "slide_type": "slide"
    }
   },
   "source": [
    "## How to start SWAN session\n",
    "\n",
    "* Go to https://swan.cern.ch\n",
    "\n",
    "or\n",
    "\n",
    "* Lets try to open materials for our session in SWAN:\n",
    "\n",
    "* Check https://github.com/oshadura/carpentries-root-training\n",
    "* Click on icon **Open in SWAN**\n",
    "* Wait a bit for the magic to start! *(probably you will need to put in your CERN credentials)*\n",
    "* Voila! (you have materials cloned in you SWAN home directory ready to be used)\n"
   ]
  },
  {
   "cell_type": "markdown",
   "metadata": {
    "slideshow": {
     "slide_type": "slide"
    }
   },
   "source": [
    "<img src=\"images/jup11.png\">"
   ]
  },
  {
   "cell_type": "markdown",
   "metadata": {
    "slideshow": {
     "slide_type": "slide"
    }
   },
   "source": [
    "In the configuration form you have the following options:\n",
    "\n",
    "* **Software stack:** LCG release that will be used to configure your environment. From your session, you will have available all the software packages included in the LCG release that you selected.\n",
    " * Our choice is: **96python3**\n",
    "* **Platform:** GCC compiler version.\n",
    " * Our choice is: **Centos7(gcc8)**\n",
    "* **Environment script:** path to a script with extra environment configuration (see more below).\n",
    " * Our choice is: **nothing**\n",
    "* **Number of cores** allocated to your session.\n",
    " * Our choice is: **default**\n",
    "* **Memory (in GB)** allocated to your session.\n",
    " * Our choice is: **default**\n",
    "* **Spark cluster** that you want to plug to your session.\n",
    " * Our choice is: **nothing**\n",
    "\n",
    "The environment script is a bash shell script that you can write to define your environment variables or to perform other configuration actions. You can locate this script in your CERNBox and access it by using the CERNBOX_HOME environment variable, that automatically resolves to your home directory in SWAN, i.e. your CERNBox.\n",
    "\n",
    "Easy? **After selecting the values that you want, click on Start my Session to begin working with SWAN!**"
   ]
  },
  {
   "cell_type": "markdown",
   "metadata": {
    "slideshow": {
     "slide_type": "slide"
    }
   },
   "source": [
    "<img src=\"images/swan1.png\">"
   ]
  },
  {
   "cell_type": "markdown",
   "metadata": {},
   "source": [
    "Let's click on any of tutorials. Works?\n",
    "<img src=\"images/swan2.png\">"
   ]
  },
  {
   "cell_type": "markdown",
   "metadata": {
    "slideshow": {
     "slide_type": "slide"
    }
   },
   "source": [
    "## Nice features in SWAN\n",
    "\n",
    "* Command line support\n",
    "* Easily change Jupyter kernel (available C++, Python2/3, Octave 3, ROOT C++)\n",
    "* Share you project wiyth your collegues\n",
    "* Easily change SWAN configuration for your notebook\n",
    "* Check SWAN **Help** session\n"
   ]
  },
  {
   "cell_type": "markdown",
   "metadata": {
    "slideshow": {
     "slide_type": "slide"
    }
   },
   "source": [
    "### Easy command line support\n",
    "\n",
    "`!echo $LD_LIBRARY_PATH`\n",
    "or\n",
    "`!pip install --user --upgrade coffea`\n"
   ]
  },
  {
   "cell_type": "markdown",
   "metadata": {
    "slideshow": {
     "slide_type": "slide"
    }
   },
   "source": [
    "<img src=\"images/swancommand.png\">"
   ]
  },
  {
   "cell_type": "markdown",
   "metadata": {
    "slideshow": {
     "slide_type": "slide"
    }
   },
   "source": [
    "<img src=\"images/swan3.png\" style=\"width: 300px;\"/>"
   ]
  },
  {
   "cell_type": "markdown",
   "metadata": {
    "slideshow": {
     "slide_type": "slide"
    }
   },
   "source": [
    "<img src=\"images/swan4.png\" style=\"width: 300px;\"/>"
   ]
  },
  {
   "cell_type": "markdown",
   "metadata": {
    "slideshow": {
     "slide_type": "slide"
    }
   },
   "source": [
    "<img src=\"images/swan5.png\" style=\"width: 300px;\"/>"
   ]
  },
  {
   "cell_type": "markdown",
   "metadata": {},
   "source": [
    "<img src=\"images/swan6.png\" style=\"width: 300px;\"/>"
   ]
  },
  {
   "cell_type": "markdown",
   "metadata": {},
   "source": [
    "<img src=\"images/swan7.png\" style=\"width: 300px;\"/>"
   ]
  },
  {
   "cell_type": "markdown",
   "metadata": {
    "slideshow": {
     "slide_type": "slide"
    }
   },
   "source": [
    "# Part 2\n",
    "## Deeper look in posibilities of Jupyter\n",
    "\n",
    "* Nice features of Jupyter notebooks\n",
    "* Other products from Jupyter project\n",
    "* How we can use then at CERN?"
   ]
  },
  {
   "cell_type": "markdown",
   "metadata": {
    "slideshow": {
     "slide_type": "slide"
    }
   },
   "source": [
    "Jupyter Notebook can be turned into a slide presentation that is kind of like using Microsoft Powerpoint, except that you can run the slide’s code live! It’s really amazing how well it works. "
   ]
  },
  {
   "cell_type": "markdown",
   "metadata": {
    "slideshow": {
     "slide_type": "subslide"
    }
   },
   "source": [
    "<img src=\"images/jup5.png\">"
   ]
  },
  {
   "cell_type": "markdown",
   "metadata": {
    "slideshow": {
     "slide_type": "slide"
    }
   },
   "source": [
    "### RISE Jupyter plugin\n",
    "*(just to show you an extra features, you can try it later from your laptop)*"
   ]
  },
  {
   "cell_type": "markdown",
   "metadata": {
    "slideshow": {
     "slide_type": "slide"
    }
   },
   "source": [
    "Reveal.js – Jupyter/IPython Slideshow Extension (RISE) is a plugin that uses *reveal.js* to make the slideshow run live. What that means is that you will now be able to run your code in the slideshow without exiting the slideshow. \n",
    "\n",
    "* How to install RISE on your local computer: https://rise.readthedocs.io/en/maint-5.6/"
   ]
  },
  {
   "cell_type": "markdown",
   "metadata": {
    "slideshow": {
     "slide_type": "slide"
    }
   },
   "source": [
    "<img src=\"images/presenthub.png\">"
   ]
  },
  {
   "cell_type": "markdown",
   "metadata": {
    "slideshow": {
     "slide_type": "slide"
    }
   },
   "source": [
    "* In SWAN, RISE plugin is available by default!\n"
   ]
  },
  {
   "cell_type": "markdown",
   "metadata": {
    "slideshow": {
     "slide_type": "slide"
    }
   },
   "source": [
    "## Jupyter and Binder"
   ]
  },
  {
   "cell_type": "markdown",
   "metadata": {
    "slideshow": {
     "slide_type": "slide"
    }
   },
   "source": [
    "A Binder (also called a Binder-ready repository) is a code repository that contains at least two things:\n",
    "\n",
    "* Code or content that you’d like people to run. This might be a Jupyter Notebook that explains an idea, or an physics analysis script with histograms/visualisions/results.\n",
    "* Configuration files for your environment. These files are used by Binder to build the environment needed to run your code. \n",
    "\n",
    "How to access: https://mybinder.org/\n"
   ]
  },
  {
   "cell_type": "markdown",
   "metadata": {
    "slideshow": {
     "slide_type": "slide"
    }
   },
   "source": [
    "In order to prepare your repository for use with the BinderHub at mybinder.org, all you need to do is ensure that the following conditions are met:\n",
    "\n",
    "* The repository is in a public location online (e.g., on GitHub, Gitlab or BitBucket)\n",
    "* The repository does not require any personal or sensitive information (such as passwords)\n",
    "* The repository has configuration files that specify its environment (see below for an example)\n"
   ]
  },
  {
   "cell_type": "markdown",
   "metadata": {
    "slideshow": {
     "slide_type": "slide"
    }
   },
   "source": [
    "In our case, we have two important ingredients:\n",
    "\n",
    "* A content files: our Jupyter Notebooks(.ipynb).\n",
    "* An environment configuration file: environment.yml is a standard file that specifies an Anaconda environment.\n"
   ]
  },
  {
   "cell_type": "markdown",
   "metadata": {
    "slideshow": {
     "slide_type": "slide"
    }
   },
   "source": [
    "### Why we can need Binder?\n",
    "\n",
    "* For example, you want to share results with someone who doesn't have CERN account (and access to SWAN)\n",
    " * Check https://github.com/oshadura/carpentries-root-training\n",
    " * I prepared our training course also in Binder, click on button **Open in Binder** and enjoy it!\n"
   ]
  },
  {
   "cell_type": "markdown",
   "metadata": {
    "slideshow": {
     "slide_type": "slide"
    }
   },
   "source": [
    "## JupyterHub"
   ]
  },
  {
   "cell_type": "markdown",
   "metadata": {
    "slideshow": {
     "slide_type": "slide"
    }
   },
   "source": [
    "* JupyterHub is the best way to serve Jupyter notebook for multiple users. \n",
    "* It can be used in a classes of students, a corporate data science group or scientific research group. \n",
    "* It is a multi-user Hub that spawns, manages, and proxies multiple instances of the single-user Jupyter notebook server.\n",
    "\n"
   ]
  },
  {
   "cell_type": "markdown",
   "metadata": {
    "slideshow": {
     "slide_type": "slide"
    }
   },
   "source": [
    "<img src=\"images/jh.png\">"
   ]
  },
  {
   "cell_type": "markdown",
   "metadata": {
    "slideshow": {
     "slide_type": "slide"
    }
   },
   "source": [
    "### Use cases\n",
    "\n",
    "* CERN\n",
    "\n",
    "* Academic Institutions, Research Labs, and Supercomputer Centers\n",
    "\n",
    "* Private companies\n",
    "\n",
    "https://jupyterhub.readthedocs.io/en/stable/gallery-jhub-deployments.html"
   ]
  },
  {
   "cell_type": "markdown",
   "metadata": {
    "slideshow": {
     "slide_type": "slide"
    }
   },
   "source": [
    "## CERN JupiterHub\n",
    "\n",
    "https://hub.cern.ch/"
   ]
  },
  {
   "cell_type": "markdown",
   "metadata": {
    "slideshow": {
     "slide_type": "slide"
    }
   },
   "source": [
    "### Together with a CERN Binder for CERN JupiterHub\n",
    "You can try to generate your Docker image to be used for notebook server:\n",
    "https://binder.cern.ch/"
   ]
  },
  {
   "cell_type": "markdown",
   "metadata": {
    "slideshow": {
     "slide_type": "slide"
    }
   },
   "source": [
    "<img src=\"images/hub0.png\">"
   ]
  },
  {
   "cell_type": "markdown",
   "metadata": {
    "slideshow": {
     "slide_type": "slide"
    }
   },
   "source": [
    "<center>**...or even on GPU!**</center>\n",
    "<img src=\"images/hub1.png\" style=\"width: 500px;\"/>"
   ]
  },
  {
   "cell_type": "markdown",
   "metadata": {
    "slideshow": {
     "slide_type": "slide"
    }
   },
   "source": [
    "### Example of Basic ML classification: Classify images of clothing\n",
    "\n",
    "Example is taken from: https://www.tensorflow.org/tutorials/keras/classification\n",
    "\n",
    "*(I just tried it for fun, you can try it later!)*"
   ]
  },
  {
   "cell_type": "markdown",
   "metadata": {
    "slideshow": {
     "slide_type": "slide"
    }
   },
   "source": [
    "<img src=\"images/hub2.png\">"
   ]
  },
  {
   "cell_type": "markdown",
   "metadata": {
    "slideshow": {
     "slide_type": "slide"
    }
   },
   "source": [
    "<img src=\"images/hub6.png\" style=\"width: 500px;\"/>"
   ]
  },
  {
   "cell_type": "markdown",
   "metadata": {
    "slideshow": {
     "slide_type": "slide"
    }
   },
   "source": [
    "<img src=\"images/hub4.png\" style=\"width: 500px;\"/>"
   ]
  },
  {
   "cell_type": "markdown",
   "metadata": {
    "slideshow": {
     "slide_type": "slide"
    }
   },
   "source": [
    "<img src=\"images/hub5.png\" style=\"width: 500px;\"/>"
   ]
  },
  {
   "cell_type": "markdown",
   "metadata": {
    "slideshow": {
     "slide_type": "slide"
    }
   },
   "source": [
    "<center>If you were worried about results on CPU CERN Binder instance - yes, it was slower!</center>\n",
    "<img src=\"images/hub7.png\">"
   ]
  },
  {
   "cell_type": "markdown",
   "metadata": {
    "slideshow": {
     "slide_type": "slide"
    }
   },
   "source": [
    "<center>Our goals here is to achieve **reproducability** of our results!</center>\n",
    "\n",
    "<img src=\"images/funnyjup.jpg\" style=\"width: 500px;\"/>"
   ]
  },
  {
   "cell_type": "markdown",
   "metadata": {
    "slideshow": {
     "slide_type": "slide"
    }
   },
   "source": [
    "<center> And don't spend ages in setup of software!</center>\n",
    "<img src=\"images/funny.jpg\" style=\"width: 500px;\"/>"
   ]
  },
  {
   "cell_type": "code",
   "execution_count": null,
   "metadata": {},
   "outputs": [],
   "source": []
  }
 ],
 "metadata": {
  "celltoolbar": "Slideshow",
  "kernelspec": {
   "display_name": "Python 3",
   "language": "python",
   "name": "python3"
  },
  "language_info": {
   "codemirror_mode": {
    "name": "ipython",
    "version": 3
   },
   "file_extension": ".py",
   "mimetype": "text/x-python",
   "name": "python",
   "nbconvert_exporter": "python",
   "pygments_lexer": "ipython3",
   "version": "3.7.4"
  }
 },
 "nbformat": 4,
 "nbformat_minor": 2
}
