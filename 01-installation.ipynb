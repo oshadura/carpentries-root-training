{
 "cells": [
  {
   "cell_type": "markdown",
   "metadata": {
    "slideshow": {
     "slide_type": "slide"
    }
   },
   "source": [
    "# Working with ROOT during Carpentry course"
   ]
  },
  {
   "cell_type": "markdown",
   "metadata": {
    "slideshow": {
     "slide_type": "slide"
    }
   },
   "source": [
    "* **NO NEED to install anything!**\n",
    " * You have available it in SWAN\n",
    " * You have available it in Binder **(only if you don't have access to SWAN, or you have troubles to access it)**\n",
    "\n"
   ]
  },
  {
   "cell_type": "markdown",
   "metadata": {
    "slideshow": {
     "slide_type": "slide"
    }
   },
   "source": [
    "## Installing ROOT fot Linux and Mac OS X\n",
    "\n",
    "For very advanced and brave users **(after course)** you can easily install ROOT via conda:\n",
    "\n",
    "ROOT is now available as a conda package. Even if you already have a copy of ROOT on your laptop, it might not work with the Python in your Anaconda/Miniconda distribution. A version of ROOT compiled to work with conda is available in the `conda-forge` channel.\n",
    "\n",
    "On your laptop, install it with:\n",
    "\n",
    "```bash\n",
    "conda install -c conda-forge root\n",
    "```"
   ]
  },
  {
   "cell_type": "code",
   "execution_count": null,
   "metadata": {},
   "outputs": [],
   "source": []
  }
 ],
 "metadata": {
  "celltoolbar": "Slideshow",
  "kernelspec": {
   "display_name": "Python 3",
   "language": "python",
   "name": "python3"
  },
  "language_info": {
   "codemirror_mode": {
    "name": "ipython",
    "version": 3
   },
   "file_extension": ".py",
   "mimetype": "text/x-python",
   "name": "python",
   "nbconvert_exporter": "python",
   "pygments_lexer": "ipython3",
   "version": "3.7.4"
  }
 },
 "nbformat": 4,
 "nbformat_minor": 2
}
