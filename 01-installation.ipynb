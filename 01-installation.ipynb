{
 "cells": [
  {
   "cell_type": "markdown",
   "metadata": {
    "slideshow": {
     "slide_type": "slide"
    }
   },
   "source": [
    "# Installation of ROOT for Carpentry course"
   ]
  },
  {
   "cell_type": "markdown",
   "metadata": {
    "slideshow": {
     "slide_type": "slide"
    }
   },
   "source": [
    "## Installing ROOT\n",
    "\n",
    "As a prerequisite for this course, you installed [Anaconda](https://docs.anaconda.com/anaconda/install/) or [Miniconda](https://docs.conda.io/en/latest/miniconda.html).\n",
    "\n",
    "ROOT is now available as a conda package. Even if you already have a copy of ROOT on your laptop, it might not work with the Python in your Anaconda/Miniconda distribution. A version of ROOT compiled to work with conda is available in the `conda-forge` channel.\n",
    "\n",
    "On your laptop, install it with:\n",
    "\n",
    "```bash\n",
    "conda install -c conda-forge root\n",
    "```\n",
    "\n",
    "On the Binder instance, do nothing. It's already installed."
   ]
  }
 ],
 "metadata": {
  "celltoolbar": "Slideshow",
  "kernelspec": {
   "display_name": "Python 3",
   "language": "python",
   "name": "python3"
  },
  "language_info": {
   "codemirror_mode": {
    "name": "ipython",
    "version": 3
   },
   "file_extension": ".py",
   "mimetype": "text/x-python",
   "name": "python",
   "nbconvert_exporter": "python",
   "pygments_lexer": "ipython3",
   "version": "3.7.3"
  }
 },
 "nbformat": 4,
 "nbformat_minor": 2
}
