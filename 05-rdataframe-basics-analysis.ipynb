{
 "cells": [
  {
   "cell_type": "markdown",
   "metadata": {},
   "source": [
    "# Making your analysis more efficient with ROOT: A basic introductory course\n",
    "\n",
    "The ROOT dataframe tutorial shows you how to analyze datasets using `ROOT::RDataFrame`. The example analysis performs the following steps:\n",
    "\n",
    "1. Connect a ROOT dataframe to a dataset containing 66 mio. events recorded by CMS in 2012\n",
    "2. Filter the events being relevant for your analysis\n",
    "3. Compute the invariant mass of the selected dimuon candidates\n",
    "4. Plot the invariant mass spectrum showing resonances up to the Z mass\n",
    "\n",
    "Specific questions, which will guide you and improve your understanding of the physics and technology, **are marked bold.**\n"
   ]
  },
  {
   "cell_type": "markdown",
   "metadata": {},
   "source": [
    "## Create a ROOT dataframe\n",
    "\n",
    "The following ROOT dataframe is connected to a dataset named `Events` in a ROOT file. The file is not placed locally but pulled in via [XRootD](http://xrootd.org/) from a remote server [here](http://opendata.web.cern.ch/record/12341).\n",
    "\n",
    "The dataset `Events` is a `TTree` (a \"table\" in first order) and has following branches (also refered to as \"columns\"):\n",
    "\n",
    "| Branch name | Data type | Description |\n",
    "|-------------|-----------|-------------|\n",
    "| `nMuon` | `unsigned int` | Number of muons in this event |\n",
    "| `Muon_pt` | `float[nMuon]` | Transverse momentum of the muons stored as an array of size `nMuon` |\n",
    "| `Muon_eta` | `float[nMuon]` | Pseudo-rapidity of the muons stored as an array of size `nMuon` |\n",
    "| `Muon_phi` | `float[nMuon]` | Azimuth of the muons stored as an array of size `nMuon` |\n",
    "| `Muon_charge` | `int[nMuon]` | Charge of the muons stored as an array of size `nMuon` and either -1 or 1 |\n",
    "| `Muon_mass` | `float[nMuon]` | Mass of the muons stored as an array of size `nMuon` |"
   ]
  },
  {
   "cell_type": "code",
   "execution_count": null,
   "metadata": {},
   "outputs": [],
   "source": [
    "import ROOT\n",
    "df = ROOT.RDataFrame(\"Events\", \"root://eospublic.cern.ch//eos/opendata/cms/derived-data/AOD2NanoAODOutreachTool/Run2012BC_DoubleMuParked_Muons.root\")"
   ]
  },
  {
   "cell_type": "markdown",
   "metadata": {},
   "source": [
    "## Run only on a part of the dataset\n",
    "\n",
    "The full dataset contains half a year of CMS data taking in 2012 with 66 mio events. For the purpose of this example, we use the `Range` node to run only on a small part of the dataset. This feature also comes in handy in the development phase of your analysis.\n",
    "\n",
    "**Feel free to experiment with this parameter! How much data do you need to see all resonances from the [eta meson](https://en.wikipedia.org/wiki/Eta_meson) up to the [Z boson](https://en.wikipedia.org/wiki/W_and_Z_bosons)?**"
   ]
  },
  {
   "cell_type": "code",
   "execution_count": null,
   "metadata": {},
   "outputs": [],
   "source": [
    "df_range = df.Range(100000)"
   ]
  },
  {
   "cell_type": "markdown",
   "metadata": {},
   "source": [
    "## Filter relevant events for this analysis\n",
    "\n",
    "Physics datasets are often general purpose datasets and therefore need excessive filtering of the events for the actual analysis. Here, we implement only a simple selection based on the number of muons and the charge to cut down the dataset on events, which are relevant for our study.\n",
    "\n",
    "**Fill in the correct expressions by replacing the `<...>` parts to select ...**\n",
    "\n",
    "1. Events with exactly two muons\n",
    "2. Events with muons of opposite charge\n",
    "\n",
    "See the table above for the column names and the data types."
   ]
  },
  {
   "cell_type": "code",
   "execution_count": null,
   "metadata": {},
   "outputs": [],
   "source": [
    "df_2mu = df_range.Filter(\"nMuon == <add here>\", \"Events with exactly two muons\")\n",
    "df_os = df_2mu.Filter(\"Muon_charge[0] <add here> Muon_charge[1]\", \"Muons with opposite charge\")"
   ]
  },
  {
   "cell_type": "markdown",
   "metadata": {},
   "source": [
    "## What are the cuts doing?\n",
    "\n",
    "To find out how many events your cuts are throwing away, we can book another endpoint of the graph reporting us the efficiency of the cuts."
   ]
  },
  {
   "cell_type": "code",
   "execution_count": null,
   "metadata": {},
   "outputs": [],
   "source": [
    "report = df_os.Report()"
   ]
  },
  {
   "cell_type": "markdown",
   "metadata": {},
   "source": [
    "## Compute the invariant mass of the dimuon system\n",
    "\n",
    "Since we want to see the resonances in the mass spectrum, where dimuon events are more likely, we need to compute the invariant mass from the four-vectors of the muon candidates. ROOT provides a [helper](https://root.cern/doc/master/namespaceROOT_1_1VecOps.html) called `InvariantMass` which does this operation for you."
   ]
  },
  {
   "cell_type": "code",
   "execution_count": null,
   "metadata": {},
   "outputs": [],
   "source": [
    "df_mass = df_os.Define(\"Dimuon_mass\", \"InvariantMass(Muon_pt, Muon_eta, Muon_phi, Muon_mass)\")"
   ]
  },
  {
   "cell_type": "markdown",
   "metadata": {},
   "source": [
    "## Make a histogram of the dimuon spectrum\n",
    "\n",
    "As (almost) always in physics, we have a look at the results in the form of a histogram. Let's book a histogram as one endpoint of our computation graph.\n",
    "\n",
    "**Where do you expect resonances in the dimuon spectrum? Adjust the plotting range accordingly! Note that the numbers refer to GeV.**"
   ]
  },
  {
   "cell_type": "code",
   "execution_count": null,
   "metadata": {},
   "outputs": [],
   "source": [
    "nbins = 100 # Number of bins\n",
    "low = 100 # Lower edge of the histogram\n",
    "up = 300 # Upper edge of the histogram\n",
    "\n",
    "hist = df_mass.Histo1D((\"Dimuon_mass\", \"Dimuon_mass\", nbins, low, up), \"Dimuon_mass\")"
   ]
  },
  {
   "cell_type": "markdown",
   "metadata": {},
   "source": [
    "## Create a plot of the dimuon spectrum\n",
    "\n",
    "Now, the computation graph is set up. Next, we want to set up a plot.\n",
    "\n",
    "Note that ROOT dataframe runs over the data just in the moment you need the actual result to reduce the runtime as much as possible, which is the reason this cell can take some time. The notebook magic `%%time` measures the time spend in the full cell."
   ]
  },
  {
   "cell_type": "code",
   "execution_count": null,
   "metadata": {},
   "outputs": [],
   "source": [
    "%%time\n",
    "\n",
    "# Set up the canvas\n",
    "ROOT.gStyle.SetTextFont(42)\n",
    "c = ROOT.TCanvas(\"c\", \"\", 800, 700)\n",
    "c.SetLogx(); c.SetLogy()\n",
    "\n",
    "# Add the histogram\n",
    "hist.SetTitle(\"\")\n",
    "hist.SetStats(False)\n",
    "hist.GetXaxis().SetTitle(\"m_{#mu#mu} (GeV)\"); hist.GetXaxis().SetTitleSize(0.04)\n",
    "hist.GetYaxis().SetTitle(\"N_{Events}\"); hist.GetYaxis().SetTitleSize(0.04)\n",
    "hist.Draw()\n",
    "\n",
    "# Add labels\n",
    "label = ROOT.TLatex(); label.SetNDC(True); label.SetTextSize(0.040)\n",
    "label.DrawLatex(0.100, 0.920, \"#bf{CMS Open Data}\")\n",
    "label.DrawLatex(0.760, 0.920, \"#sqrt{s} = 8 TeV\");"
   ]
  },
  {
   "cell_type": "markdown",
   "metadata": {},
   "source": [
    "## Look at the plot interactively"
   ]
  },
  {
   "cell_type": "markdown",
   "metadata": {},
   "source": [
    "ROOT provides for the notebooks a JavaScript front-end for drawing the canvas. Click and drag on the axis to zoom in and double click to reset view.\n",
    "\n",
    "Don't forget that you can improve the statistics by increasing the number of events given to `Range`."
   ]
  },
  {
   "cell_type": "code",
   "execution_count": null,
   "metadata": {},
   "outputs": [],
   "source": [
    "%jsroot on\n",
    "c.Draw()"
   ]
  },
  {
   "cell_type": "markdown",
   "metadata": {},
   "source": [
    "## Inspect the cut-flow\n",
    "\n",
    "As the last study, we have a look at the efficiency of the placed cuts."
   ]
  },
  {
   "cell_type": "code",
   "execution_count": null,
   "metadata": {},
   "outputs": [],
   "source": [
    "report.Print()"
   ]
  },
  {
   "cell_type": "code",
   "execution_count": null,
   "metadata": {},
   "outputs": [],
   "source": []
  }
 ],
 "metadata": {
  "kernelspec": {
   "display_name": "Python 3",
   "language": "python",
   "name": "python3"
  },
  "language_info": {
   "codemirror_mode": {
    "name": "ipython",
    "version": 3
   },
   "file_extension": ".py",
   "mimetype": "text/x-python",
   "name": "python",
   "nbconvert_exporter": "python",
   "pygments_lexer": "ipython3",
   "version": "3.7.3"
  }
 },
 "nbformat": 4,
 "nbformat_minor": 2
}
