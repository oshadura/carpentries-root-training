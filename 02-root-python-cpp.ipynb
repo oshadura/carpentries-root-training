{
 "cells": [
  {
   "cell_type": "markdown",
   "metadata": {
    "slideshow": {
     "slide_type": "slide"
    }
   },
   "source": [
    "# Using ROOT to bind Python and C++"
   ]
  },
  {
   "cell_type": "markdown",
   "metadata": {
    "slideshow": {
     "slide_type": "slide"
    }
   },
   "source": [
    "PyROOT is not just a set of Python bindings to C++ functions; it dynamically generates bindings for all C++ classes and functions in its namespace."
   ]
  },
  {
   "cell_type": "markdown",
   "metadata": {
    "slideshow": {
     "slide_type": "slide"
    }
   },
   "source": [
    "## What is PyROOT?\n",
    "\n",
    "* Python bindings offered by ROOT\n",
    "* Access all the (not only!) ROOT C++ functionality from Python (Python façade, C++ performance)\n",
    "* Automatic, dynamic \n",
    " * No static wrapper generation\n",
    " * Dynamic python proxies for C++ entities\n",
    " * Lazy class/variable lookup"
   ]
  },
  {
   "cell_type": "markdown",
   "metadata": {
    "slideshow": {
     "slide_type": "slide"
    }
   },
   "source": [
    "* Powered by the ROOT type system and Cling\n",
    " * Reflection information, JIT C++ compilation, execution\n",
    "* Pythonizations\n",
    " * Make it simpler, more pythonic"
   ]
  },
  {
   "cell_type": "markdown",
   "metadata": {
    "slideshow": {
     "slide_type": "slide"
    }
   },
   "source": [
    "<center><img src=\"images/pyroot.png\"></center>"
   ]
  },
  {
   "cell_type": "markdown",
   "metadata": {
    "slideshow": {
     "slide_type": "fragment"
    }
   },
   "source": [
    "Let's start with a part learning how to include new functions that you define."
   ]
  },
  {
   "cell_type": "code",
   "execution_count": null,
   "metadata": {
    "slideshow": {
     "slide_type": "slide"
    }
   },
   "outputs": [],
   "source": [
    "import ROOT"
   ]
  },
  {
   "cell_type": "markdown",
   "metadata": {
    "slideshow": {
     "slide_type": "-"
    }
   },
   "source": [
    "In a script, use `gInterpreter.ProcessLine` or `gInterpreter.Declare` to run C++ code."
   ]
  },
  {
   "cell_type": "code",
   "execution_count": null,
   "metadata": {
    "slideshow": {
     "slide_type": "-"
    }
   },
   "outputs": [],
   "source": [
    "ROOT.gInterpreter.Declare(\"\"\"\n",
    "double dostuff(double a, double b) {\n",
    "    return a + b;\n",
    "}\n",
    "\"\"\")"
   ]
  },
  {
   "cell_type": "code",
   "execution_count": null,
   "metadata": {
    "slideshow": {
     "slide_type": "slide"
    }
   },
   "outputs": [],
   "source": [
    "ROOT.dostuff(3.14, 100)"
   ]
  },
  {
   "cell_type": "markdown",
   "metadata": {
    "slideshow": {
     "slide_type": "slide"
    }
   },
   "source": [
    "Suppose we want to change the `dostuff` function, common on a prompt or in a notebook."
   ]
  },
  {
   "cell_type": "code",
   "execution_count": null,
   "metadata": {
    "slideshow": {
     "slide_type": "-"
    }
   },
   "outputs": [],
   "source": [
    "ROOT.gInterpreter.Declare(\"\"\"\n",
    "double dostuff(double a, double b) {\n",
    "    return (a + b) / sqrt(a*a + b*b);\n",
    "}\n",
    "\"\"\")"
   ]
  },
  {
   "cell_type": "markdown",
   "metadata": {
    "slideshow": {
     "slide_type": "slide"
    }
   },
   "source": [
    "Ouch! Of course it doesn't let us replace a definition (not legal in C++), but we really want to."
   ]
  },
  {
   "cell_type": "markdown",
   "metadata": {
    "slideshow": {
     "slide_type": "slide"
    }
   },
   "source": [
    "This is what I do:"
   ]
  },
  {
   "cell_type": "code",
   "execution_count": null,
   "metadata": {
    "slideshow": {
     "slide_type": "-"
    }
   },
   "outputs": [],
   "source": [
    "tmpname = \"dostuffv1\"                  # keep changing the C++ name\n",
    "\n",
    "ROOT.gInterpreter.Declare(\"\"\"\n",
    "double %s(double a, double b) {\n",
    "    return (a + b) / sqrt(a*a + b*b);\n",
    "}\n",
    "\"\"\" % tmpname)\n",
    "\n",
    "dostuff = getattr(ROOT, tmpname)       # but assign to the same Python name"
   ]
  },
  {
   "cell_type": "code",
   "execution_count": null,
   "metadata": {
    "slideshow": {
     "slide_type": "slide"
    }
   },
   "outputs": [],
   "source": [
    "dostuff(3.14, 100)"
   ]
  },
  {
   "cell_type": "markdown",
   "metadata": {
    "slideshow": {
     "slide_type": "slide"
    }
   },
   "source": [
    "<center><img src=\"images/03-cheat-sheet.png\"></center>"
   ]
  },
  {
   "cell_type": "markdown",
   "metadata": {
    "slideshow": {
     "slide_type": "slide"
    }
   },
   "source": [
    "## ROOT and Numpy arrays\n",
    "\n",
    "Passing between C++ and Python is an expensive process (looking up class and function definitions in ROOT's C++ reflection and dynamically generating equivalent Python structures)."
   ]
  },
  {
   "cell_type": "markdown",
   "metadata": {
    "slideshow": {
     "slide_type": "fragment"
    }
   },
   "source": [
    "To use these bindings efficiently, we should send bulk data over the boundary and do loops on the C++ side."
   ]
  },
  {
   "cell_type": "markdown",
   "metadata": {
    "slideshow": {
     "slide_type": "slide"
    }
   },
   "source": [
    "Python's bulk container is the Numpy array."
   ]
  },
  {
   "cell_type": "code",
   "execution_count": null,
   "metadata": {},
   "outputs": [],
   "source": [
    "import numpy\n",
    "a = numpy.arange(10) * 1.1\n",
    "a"
   ]
  },
  {
   "cell_type": "code",
   "execution_count": null,
   "metadata": {
    "slideshow": {
     "slide_type": "slide"
    }
   },
   "outputs": [],
   "source": [
    "tmpname = \"dostuffv2\"\n",
    "\n",
    "ROOT.gInterpreter.Declare(\"\"\"\n",
    "void %s(int num, double *data) {\n",
    "    for (int i = 0;  i < num;  i++) {\n",
    "        data[i] += 100;\n",
    "    }\n",
    "}\n",
    "\"\"\" % tmpname)\n",
    "\n",
    "dostuff = getattr(ROOT, tmpname)"
   ]
  },
  {
   "cell_type": "code",
   "execution_count": null,
   "metadata": {
    "slideshow": {
     "slide_type": "-"
    }
   },
   "outputs": [],
   "source": [
    "dostuff(len(a), a)\n",
    "a"
   ]
  },
  {
   "cell_type": "markdown",
   "metadata": {
    "slideshow": {
     "slide_type": "slide"
    }
   },
   "source": [
    "This works because ROOT converts the Numpy array of doubles into a C-style array of doubles."
   ]
  },
  {
   "cell_type": "markdown",
   "metadata": {
    "slideshow": {
     "slide_type": "fragment"
    }
   },
   "source": [
    "But beware! It doesn't _check_ the array type, it _assumes_ the type."
   ]
  },
  {
   "cell_type": "code",
   "execution_count": null,
   "metadata": {
    "slideshow": {
     "slide_type": "slide"
    }
   },
   "outputs": [],
   "source": [
    "b = numpy.arange(10, dtype=numpy.int64)    # same number of bits as double, but different meaning\n",
    "b"
   ]
  },
  {
   "cell_type": "code",
   "execution_count": null,
   "metadata": {},
   "outputs": [],
   "source": [
    "dostuff(len(b), b)\n",
    "b"
   ]
  },
  {
   "cell_type": "markdown",
   "metadata": {
    "slideshow": {
     "slide_type": "fragment"
    }
   },
   "source": [
    "It gets even worse if the length is wrong: segmentation faults!"
   ]
  },
  {
   "cell_type": "markdown",
   "metadata": {
    "slideshow": {
     "slide_type": "slide"
    }
   },
   "source": [
    "## ROOT and std::vectors\n",
    "\n",
    "Modern C++ uses `std::vector` to protect both the length and the type, but the data are still contiguous in memory like a Numpy array.\n",
    "\n",
    "ROOT provides a way to create `std::vectors` in Python and view them as Numpy."
   ]
  },
  {
   "cell_type": "code",
   "execution_count": null,
   "metadata": {
    "slideshow": {
     "slide_type": "slide"
    }
   },
   "outputs": [],
   "source": [
    "a = ROOT.std.vector(\"double\")()    # allocate empty\n",
    "a.push_back(1.1)\n",
    "a.push_back(2.2)\n",
    "a.push_back(3.3)\n",
    "print([x for x in a])"
   ]
  },
  {
   "cell_type": "code",
   "execution_count": null,
   "metadata": {
    "slideshow": {
     "slide_type": "fragment"
    }
   },
   "outputs": [],
   "source": [
    "a_np = numpy.asarray(a)\n",
    "a_np"
   ]
  },
  {
   "cell_type": "markdown",
   "metadata": {
    "slideshow": {
     "slide_type": "fragment"
    }
   },
   "source": [
    "This is a _view_ of the _same memory._"
   ]
  },
  {
   "cell_type": "code",
   "execution_count": null,
   "metadata": {
    "slideshow": {
     "slide_type": "slide"
    }
   },
   "outputs": [],
   "source": [
    "a_np += 100\n",
    "a_np"
   ]
  },
  {
   "cell_type": "code",
   "execution_count": null,
   "metadata": {
    "slideshow": {
     "slide_type": "-"
    }
   },
   "outputs": [],
   "source": [
    "print([x for x in a])"
   ]
  },
  {
   "cell_type": "markdown",
   "metadata": {
    "slideshow": {
     "slide_type": "slide"
    }
   },
   "source": [
    "The Numpy array can even be unnamed and short-lived if we use `[:]` to set its data because it is _not_ a copy."
   ]
  },
  {
   "cell_type": "code",
   "execution_count": null,
   "metadata": {
    "slideshow": {
     "slide_type": "-"
    }
   },
   "outputs": [],
   "source": [
    "numpy.asarray(a)[1:] = 999\n",
    "print([x for x in a])"
   ]
  },
  {
   "cell_type": "markdown",
   "metadata": {
    "slideshow": {
     "slide_type": "-"
    }
   },
   "source": [
    "(See Numpy tutorials for more about `[:]`.)"
   ]
  },
  {
   "cell_type": "markdown",
   "metadata": {
    "slideshow": {
     "slide_type": "slide"
    }
   },
   "source": [
    "Using `std::vector`, we can write safer functions."
   ]
  },
  {
   "cell_type": "code",
   "execution_count": null,
   "metadata": {
    "slideshow": {
     "slide_type": "slide"
    }
   },
   "outputs": [],
   "source": [
    "tmpname = \"dostuffv3\"\n",
    "\n",
    "ROOT.gInterpreter.Declare(\"\"\"\n",
    "std::vector<double> %s(std::vector<double> &a, std::vector<double> &b) {\n",
    "    std::vector<double> out;\n",
    "    for (int i = 0;  i < a.size() && i < b.size();  i++) {\n",
    "        out.push_back(a[i] + b[i]);\n",
    "    }\n",
    "    return out;\n",
    "}\n",
    "\"\"\" % tmpname)\n",
    "\n",
    "dostuff = getattr(ROOT, tmpname)"
   ]
  },
  {
   "cell_type": "code",
   "execution_count": null,
   "metadata": {
    "slideshow": {
     "slide_type": "slide"
    }
   },
   "outputs": [],
   "source": [
    "a = ROOT.std.vector(\"double\")(10)\n",
    "b = ROOT.std.vector(\"double\")(10)\n",
    "numpy.asarray(a)[:] = numpy.arange(10) * 1.1\n",
    "numpy.asarray(b)[:] = 100.0"
   ]
  },
  {
   "cell_type": "code",
   "execution_count": null,
   "metadata": {},
   "outputs": [],
   "source": [
    "c = dostuff(a, b)\n",
    "numpy.asarray(c)"
   ]
  },
  {
   "cell_type": "markdown",
   "metadata": {
    "slideshow": {
     "slide_type": "slide"
    }
   },
   "source": [
    "Unlike Numpy arrays you create yourself, these arrays do not \"own\" their data. Memory leaks and `new/delete` must be handled entirely on the C++ side."
   ]
  },
  {
   "cell_type": "code",
   "execution_count": null,
   "metadata": {
    "slideshow": {
     "slide_type": "-"
    }
   },
   "outputs": [],
   "source": [
    "numpy.asarray(c).flags"
   ]
  },
  {
   "cell_type": "markdown",
   "metadata": {
    "slideshow": {
     "slide_type": "slide"
    }
   },
   "source": [
    "## Other features"
   ]
  },
  {
   "cell_type": "markdown",
   "metadata": {
    "slideshow": {
     "slide_type": "slide"
    }
   },
   "source": [
    "<center><img src=\"images/rvec.png\" style=\"width: 500px;\"/></center>\n",
    "<center><img src=\"images/rvec1.png\"style=\"width: 500px;\"/></center>\n"
   ]
  },
  {
   "cell_type": "markdown",
   "metadata": {
    "slideshow": {
     "slide_type": "slide"
    }
   },
   "source": [
    "**Read a TTree into a NumPy array**\n",
    "* Branches of arithmetic types (ntuples)\n"
   ]
  },
  {
   "cell_type": "code",
   "execution_count": null,
   "metadata": {
    "slideshow": {
     "slide_type": "slide"
    }
   },
   "outputs": [],
   "source": [
    "def make_example():\n",
    "    root_file = ROOT.TFile(\"pyroot_example.root\", \"RECREATE\")\n",
    "    tree = ROOT.TTree(\"tree\", \"tutorial\")\n",
    "    x = numpy.empty((1), dtype=\"float32\")\n",
    "    y = numpy.empty((1), dtype=\"float32\")\n",
    "    tree.Branch(\"x\", x, \"x/F\")\n",
    "    tree.Branch(\"y\", y, \"y/F\")\n",
    "\n",
    "    for i in range(4):\n",
    "        x[0] = i\n",
    "        y[0] = -i\n",
    "        tree.Fill()\n",
    "    root_file.Write()\n",
    "\n",
    "    return (root_file, x, y), tree"
   ]
  },
  {
   "cell_type": "code",
   "execution_count": null,
   "metadata": {
    "slideshow": {
     "slide_type": "slide"
    }
   },
   "outputs": [],
   "source": [
    "ROOT.ROOT.EnableImplicitMT()\n",
    "\n",
    "# Create a ROOT file with a tree and the branches \"x\" and \"y\"\n",
    "_, tree = make_example()\n",
    "\n",
    "# Read-out full tree as numpy array\n",
    "array = tree.AsMatrix()\n",
    "print(\"Tree converted to a numpy array:\\n{}\\n\".format(array))"
   ]
  },
  {
   "cell_type": "code",
   "execution_count": null,
   "metadata": {
    "slideshow": {
     "slide_type": "slide"
    }
   },
   "outputs": [],
   "source": [
    "# Get numpy array and according labels of the columns\n",
    "array, labels = tree.AsMatrix(return_labels=True)\n",
    "print(\"Return numpy array and labels:\\n{}\\n{}\\n\".format(labels, array))\n",
    "\n",
    "# Apply numpy methods on the data\n",
    "print(\"Mean of the columns retrieved with a numpy method: {}\\n\".format(\n",
    "    numpy.mean(array, axis=0)))\n",
    "\n",
    "# Read only specific branches\n",
    "array = tree.AsMatrix(columns=[\"x\"])"
   ]
  },
  {
   "cell_type": "markdown",
   "metadata": {
    "slideshow": {
     "slide_type": "slide"
    }
   },
   "source": [
    "**Even more powerful way to read TTrees into NumPy**\n",
    "* All RDataFrame operations available\n",
    "* Optional parallelism\n"
   ]
  },
  {
   "cell_type": "code",
   "execution_count": null,
   "metadata": {
    "slideshow": {
     "slide_type": "slide"
    }
   },
   "outputs": [],
   "source": [
    "df = ROOT.RDataFrame(10) \\\n",
    "         .Define(\"x\", \"(int)rdfentry_\") \\\n",
    "         .Define(\"y\", \"1.f/(1.f+rdfentry_)\")\n",
    "\n",
    "# Next, we want to access the data from Python as Numpy arrays. To do so, the\n",
    "# content of the dataframe is converted using the AsNumpy method. The returned\n",
    "# object is a dictionary with the column names as keys and 1D numpy arrays with\n",
    "# the content as values.\n",
    "npy = df.AsNumpy()\n",
    "print(\"Read-out of the full RDataFrame:\\n{}\\n\".format(npy))"
   ]
  },
  {
   "cell_type": "markdown",
   "metadata": {
    "slideshow": {
     "slide_type": "slide"
    }
   },
   "source": [
    "## Interesting and more complex features "
   ]
  },
  {
   "cell_type": "markdown",
   "metadata": {
    "slideshow": {
     "slide_type": "slide"
    }
   },
   "source": [
    "\n",
    "<center><img src=\"images/cppcall.png\" style=\"width: 500px;\"/></center>"
   ]
  },
  {
   "cell_type": "markdown",
   "metadata": {
    "slideshow": {
     "slide_type": "slide"
    }
   },
   "source": [
    "<center><img src=\"images/03-coming-soon-4.png\" style=\"width: 500px;\"/></center>"
   ]
  },
  {
   "cell_type": "markdown",
   "metadata": {
    "slideshow": {
     "slide_type": "slide"
    }
   },
   "source": [
    "<center><img src=\"images/03-coming-soon-5.png\" style=\"width: 500px;\"/></center>"
   ]
  },
  {
   "cell_type": "markdown",
   "metadata": {
    "slideshow": {
     "slide_type": "slide"
    }
   },
   "source": [
    "<center><img src=\"images/03-coming-soon-6.png\" style=\"width: 500px;\"/></center>"
   ]
  },
  {
   "cell_type": "markdown",
   "metadata": {},
   "source": [
    "## Future features!"
   ]
  },
  {
   "cell_type": "markdown",
   "metadata": {
    "slideshow": {
     "slide_type": "slide"
    }
   },
   "source": [
    "<center><img src=\"images/03-coming-soon-3.png\" style=\"width: 500px;\"/></center>"
   ]
  },
  {
   "cell_type": "markdown",
   "metadata": {},
   "source": [
    "Material used in this tutorial:\n",
    "* \"A more Pythonic, Interoperable and Modern PyROOT\" https://indico.cern.ch/event/708041/contributions/3276254/ ACAT 2019\n",
    "* \"PyROOT\" https://indico.cern.ch/event/833895/contributions/3577815/ PyHEP 2019"
   ]
  }
 ],
 "metadata": {
  "celltoolbar": "Slideshow",
  "kernelspec": {
   "display_name": "Python 3",
   "language": "python",
   "name": "python3"
  },
  "language_info": {
   "codemirror_mode": {
    "name": "ipython",
    "version": 3
   },
   "file_extension": ".py",
   "mimetype": "text/x-python",
   "name": "python",
   "nbconvert_exporter": "python",
   "pygments_lexer": "ipython3",
   "version": "3.7.3"
  }
 },
 "nbformat": 4,
 "nbformat_minor": 2
}
