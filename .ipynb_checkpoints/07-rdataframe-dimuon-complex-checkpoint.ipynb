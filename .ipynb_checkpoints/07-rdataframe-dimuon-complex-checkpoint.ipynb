{
 "cells": [
  {
   "cell_type": "markdown",
   "metadata": {},
   "source": [
    "# ROOT dataframe tutorial: Dimuon spectrum\n",
    "\n",
    "The ROOT dataframe tutorial shows you how to analyze datasets using `RDataFrame`. The example analysis performs the following steps:\n",
    "\n",
    "1. Connect a ROOT dataframe to a dataset containing 66 mio. events recorded by CMS in 2012\n",
    "2. Filter the events being relevant for your analysis\n",
    "3. Compute the invariant mass of the selected dimuon candidates\n",
    "4. Plot the invariant mass spectrum showing resonances up to the Z mass\n",
    "\n",
    "The notebook runs out-of-the-box. However, you are encouraged to tweak the code to see the effect on the result! \n",
    "\n",
    "Specific questions, which will improve your understanding of the technology, **are marked bold.**\n"
   ]
  },
  {
   "cell_type": "markdown",
   "metadata": {},
   "source": [
    "## Using Python with advanced features\n",
    "\n",
    "In the stage 1 of the tutorial, we have seen how you can inject C++ code in your computational expensive parts of the event loop. But this maybe not performant enough for your analysis. Therefore, you can learn in this part of the tutorial, how you can make your analysis toolchain even more efficient with precompiled C++ code and the C++ interpreter `cling`."
   ]
  },
  {
   "cell_type": "code",
   "execution_count": null,
   "metadata": {},
   "outputs": [],
   "source": [
    "import ROOT"
   ]
  },
  {
   "cell_type": "markdown",
   "metadata": {},
   "source": [
    "## Create the ROOT dataframe and filter the dataset\n",
    "\n",
    "This code is unchanged from the previous stage. **Fill in the missing pieces!**"
   ]
  },
  {
   "cell_type": "code",
   "execution_count": null,
   "metadata": {},
   "outputs": [],
   "source": [
    "files = ROOT.std.vector(\"string\")()\n",
    "files.push_back(\"root://eospublic.cern.ch//eos/root-eos/cms_opendata_2012_nanoaod/Run2012B_DoubleMuParked.root\")\n",
    "files.push_back(\"root://eospublic.cern.ch//eos/root-eos/cms_opendata_2012_nanoaod/Run2012C_DoubleMuParked.root\")\n",
    "df = ROOT.RDataFrame(\"Events\", files)"
   ]
  },
  {
   "cell_type": "code",
   "execution_count": null,
   "metadata": {},
   "outputs": [],
   "source": [
    "df_2mu = df.Filter(\"do something with nMuon\", \"Events with exactly two muons\")\n",
    "df_os = df_2mu.Filter(\"do something with Muon_charge\", \"Muons with opposite charge\")"
   ]
  },
  {
   "cell_type": "markdown",
   "metadata": {},
   "source": [
    "## Integrate optimized C++ code in the analysis\n",
    "\n",
    "In the following, we want to include optimized C++ code and include the functions there in the event loop.\n",
    "\n",
    "The file `AnalysisCode.hxx` implements the function `compute_mass`. In the cell below, you can have a look at the source code."
   ]
  },
  {
   "cell_type": "code",
   "execution_count": 1,
   "metadata": {},
   "outputs": [
    {
     "name": "stdout",
     "output_type": "stream",
     "text": [
      "#include \"Math/Vector4Dfwd.h\"\n",
      "#include \"ROOT/RVec.hxx\"\n",
      "\n",
      "// Use O3 optimization level for just-in-time compilation\n",
      "#pragma cling optimize(3)\n",
      "\n",
      "using Vec_t = const ROOT::VecOps::RVec<float>&;\n",
      "float compute_mass(Vec_t pt, Vec_t eta, Vec_t phi, Vec_t mass) {\n",
      "    ROOT::Math::PtEtaPhiMVector p1(pt[0], eta[0], phi[0], mass[0]);\n",
      "    ROOT::Math::PtEtaPhiMVector p2(pt[1], eta[1], phi[1], mass[1]);\n",
      "    return (p1 + p2).mass();\n",
      "}"
     ]
    }
   ],
   "source": [
    "%%bash\n",
    "cat AnalysisCode.hxx"
   ]
  },
  {
   "cell_type": "markdown",
   "metadata": {},
   "source": [
    "Next we include the implemented function in the ROOT environment using cling.\n",
    "\n",
    "**What is `#pragma cling optimize(3)` doing and why is it interesting?**\n",
    "\n",
    "Note that you could also compile a shared library and load it via cling."
   ]
  },
  {
   "cell_type": "code",
   "execution_count": null,
   "metadata": {},
   "outputs": [],
   "source": [
    "ROOT.gInterpreter.Declare('#include \"AnalysisCode.hxx\"')"
   ]
  },
  {
   "cell_type": "markdown",
   "metadata": {},
   "source": [
    "Now, you can call the C++ code in the event loop."
   ]
  },
  {
   "cell_type": "code",
   "execution_count": null,
   "metadata": {},
   "outputs": [],
   "source": [
    "df_mass = df_os.Define(\"Dimuon_mass\", \"compute_mass(Muon_pt, Muon_eta, Muon_phi, Muon_mass)\")"
   ]
  },
  {
   "cell_type": "markdown",
   "metadata": {},
   "source": [
    "## Make a histogram and draw the result\n",
    "\n",
    "The following code is unchanged to the previous stage of the tutorial.\n",
    "\n",
    "**Can you find the reason why the time spend in the event loop may not decrease in this example though the code is now more optimized?**"
   ]
  },
  {
   "cell_type": "code",
   "execution_count": null,
   "metadata": {},
   "outputs": [],
   "source": [
    "df_range = df_mass.Range(100000)"
   ]
  },
  {
   "cell_type": "code",
   "execution_count": null,
   "metadata": {},
   "outputs": [],
   "source": [
    "nbins = 30000\n",
    "low = 100\n",
    "up = 300\n",
    "h = df_range.Histo1D((\"Dimuon_mass\", \"Dimuon_mass\", nbins, low, up), \"Dimuon_mass\")"
   ]
  },
  {
   "cell_type": "code",
   "execution_count": null,
   "metadata": {},
   "outputs": [],
   "source": [
    "report = df_range.Report()"
   ]
  },
  {
   "cell_type": "code",
   "execution_count": null,
   "metadata": {},
   "outputs": [],
   "source": [
    "%%time\n",
    "ROOT.gStyle.SetOptStat(0); ROOT.gStyle.SetTextFont(42)\n",
    "c = ROOT.TCanvas(\"c\", \"\", 800, 700)\n",
    "c.SetLogx(); c.SetLogy()\n",
    "h.SetTitle(\"\")\n",
    "h.GetXaxis().SetTitle(\"m_{#mu#mu} (GeV)\"); h.GetXaxis().SetTitleSize(0.04)\n",
    "h.GetYaxis().SetTitle(\"N_{Events}\"); h.GetYaxis().SetTitleSize(0.04)\n",
    "h.Draw()\n",
    "\n",
    "label = ROOT.TLatex(); label.SetNDC(True)\n",
    "label.SetTextSize(0.040); label.DrawLatex(0.100, 0.920, \"#bf{CMS Open Data}\")\n",
    "label.SetTextSize(0.030); label.DrawLatex(0.630, 0.920, \"#sqrt{s} = 8 TeV, L_{int} = 11.6 fb^{-1}\");"
   ]
  },
  {
   "cell_type": "code",
   "execution_count": null,
   "metadata": {},
   "outputs": [],
   "source": [
    "%jsroot on\n",
    "c.Draw()"
   ]
  },
  {
   "cell_type": "code",
   "execution_count": null,
   "metadata": {},
   "outputs": [],
   "source": [
    "report.Print()"
   ]
  },
  {
   "cell_type": "markdown",
   "metadata": {},
   "source": [
    "## Additional tasks\n",
    "\n",
    "Feel free to adapt the library and add additional functionality. For example, try to replace the jitted filters with precompiled functions from the library."
   ]
  }
 ],
 "metadata": {
  "kernelspec": {
   "display_name": "Python 3",
   "language": "python",
   "name": "python3"
  },
  "language_info": {
   "codemirror_mode": {
    "name": "ipython",
    "version": 3
   },
   "file_extension": ".py",
   "mimetype": "text/x-python",
   "name": "python",
   "nbconvert_exporter": "python",
   "pygments_lexer": "ipython3",
   "version": "3.7.3"
  }
 },
 "nbformat": 4,
 "nbformat_minor": 2
}
